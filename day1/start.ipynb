{
 "cells": [
  {
   "cell_type": "code",
   "execution_count": 1,
   "metadata": {},
   "outputs": [
    {
     "data": {
      "text/html": [
       "<pre style=\"word-wrap: normal;white-space: pre;background: #fff0;line-height: 1.1;font-family: &quot;Courier New&quot;,Courier,monospace\">        ┌───┐      ░ ┌─┐   \n",
       "   q_0: ┤ H ├──■───░─┤M├───\n",
       "        └───┘┌─┴─┐ ░ └╥┘┌─┐\n",
       "   q_1: ─────┤ X ├─░──╫─┤M├\n",
       "             └───┘ ░  ║ └╥┘\n",
       "meas: 2/══════════════╩══╩═\n",
       "                      0  1 </pre>"
      ],
      "text/plain": [
       "        ┌───┐      ░ ┌─┐   \n",
       "   q_0: ┤ H ├──■───░─┤M├───\n",
       "        └───┘┌─┴─┐ ░ └╥┘┌─┐\n",
       "   q_1: ─────┤ X ├─░──╫─┤M├\n",
       "             └───┘ ░  ║ └╥┘\n",
       "meas: 2/══════════════╩══╩═\n",
       "                      0  1 "
      ]
     },
     "execution_count": 1,
     "metadata": {},
     "output_type": "execute_result"
    }
   ],
   "source": [
    "from qiskit import QuantumRegister, QuantumCircuit\n",
    "\n",
    "qubits = QuantumRegister(2, name=\"q\")\n",
    "circuit = QuantumCircuit(qubits)\n",
    "\n",
    "q0, q1 = qubits\n",
    "circuit.h(q0)\n",
    "circuit.cx(q0, q1)\n",
    "circuit.measure_all()\n",
    "\n",
    "circuit.draw()"
   ]
  },
  {
   "cell_type": "code",
   "execution_count": 2,
   "metadata": {},
   "outputs": [
    {
     "data": {
      "image/png": "[encoded data removed]",
      "text/plain": [
       "<Figure size 841.643x284.278 with 1 Axes>"
      ]
     },
     "execution_count": 2,
     "metadata": {},
     "output_type": "execute_result"
    }
   ],
   "source": [
    "from qiskit.transpiler.preset_passmanagers import generate_preset_pass_manager\n",
    "from qiskit_ibm_runtime import QiskitRuntimeService\n",
    "import os\n",
    "from dotenv import load_dotenv\n",
    "\n",
    "# Load environment variables from .env file\n",
    "load_dotenv()\n",
    "\n",
    "ibm_quantum_token = os.getenv(\"IBM_QUANTUM_TOKEN\")\n",
    "\n",
    "QiskitRuntimeService.save_account(\n",
    "    channel=\"ibm_quantum\",\n",
    "    token=ibm_quantum_token,\n",
    "    set_as_default=True,\n",
    "    # Use 'overwrite=True' if you're updating your token.\n",
    "    overwrite=True,\n",
    ")\n",
    "\n",
    "service = QiskitRuntimeService()\n",
    "backend = service.backend(\"ibm_brisbane\")\n",
    "pass_manager = generate_preset_pass_manager(optimization_level=3, backend=backend)\n",
    "isa_circuit = pass_manager.run(circuit)\n",
    "\n",
    "isa_circuit.draw(\"mpl\", idle_wires=False)"
   ]
  },
  {
   "cell_type": "code",
   "execution_count": 8,
   "metadata": {},
   "outputs": [
    {
     "data": {
      "text/plain": [
       "PrimitiveResult([SamplerPubResult(data=DataBin(meas=BitArray(<shape=(), num_shots=1024, num_bits=2>)))], metadata={})"
      ]
     },
     "execution_count": 8,
     "metadata": {},
     "output_type": "execute_result"
    }
   ],
   "source": [
    "# sampler\n",
    "from qiskit_ibm_runtime.fake_provider import FakeManilaV2\n",
    "from qiskit_ibm_runtime import SamplerV2\n",
    "\n",
    "fake_manila = FakeManilaV2()\n",
    "pm = generate_preset_pass_manager(backend=fake_manila, optimization_level=1)\n",
    "isa_qc = pm.run(circuit)\n",
    "\n",
    "# fixed seed\n",
    "options = {\"simulator\": {\"seed_simulator\": 42}}\n",
    "sampler = SamplerV2(mode=fake_manila, options=options)\n",
    "\n",
    "results = sampler.run([isa_qc]).result()\n",
    "results"
   ]
  },
  {
   "cell_type": "code",
   "execution_count": 9,
   "metadata": {},
   "outputs": [
    {
     "name": "stdout",
     "output_type": "stream",
     "text": [
      "Mon Jul 15 13:37:53 2024       \n",
      "+-----------------------------------------------------------------------------+\n",
      "| NVIDIA-SMI 525.105.17   Driver Version: 525.105.17   CUDA Version: 12.2     |\n",
      "|-------------------------------+----------------------+----------------------+\n",
      "| GPU  Name        Persistence-M| Bus-Id        Disp.A | Volatile Uncorr. ECC |\n",
      "| Fan  Temp  Perf  Pwr:Usage/Cap|         Memory-Usage | GPU-Util  Compute M. |\n",
      "|                               |                      |               MIG M. |\n",
      "|===============================+======================+======================|\n",
      "|   0  NVIDIA A100-PCI...  On   | 00000000:C3:00.0 Off |                    0 |\n",
      "| N/A   75C    P0   246W / 250W |  39867MiB / 40960MiB |    100%      Default |\n",
      "|                               |                      |             Disabled |\n",
      "+-------------------------------+----------------------+----------------------+\n",
      "                                                                               \n",
      "+-----------------------------------------------------------------------------+\n",
      "| Processes:                                                                  |\n",
      "|  GPU   GI   CI        PID   Type   Process name                  GPU Memory |\n",
      "|        ID   ID                                                   Usage      |\n",
      "|=============================================================================|\n",
      "|    0   N/A  N/A    774135      C   python                          22634MiB |\n",
      "|    0   N/A  N/A   1310686      C   python3                         16298MiB |\n",
      "|    0   N/A  N/A   2125586      C   python3                           884MiB |\n",
      "+-----------------------------------------------------------------------------+\n"
     ]
    }
   ],
   "source": [
    "!nvidia-smi"
   ]
  },
  {
   "cell_type": "code",
   "execution_count": 10,
   "metadata": {},
   "outputs": [
    {
     "ename": "ImportError",
     "evalue": "/global/homes/g/gzquse/.conda/envs/qiskit-summer/lib/python3.11/site-packages/qiskit_aer/backends/../../nvidia/cusparse/lib/libcusparse.so.12: undefined symbol: __nvJitLinkAddData_12_5, version libnvJitLink.so.12",
     "output_type": "error",
     "traceback": [
      "\u001b[0;31m---------------------------------------------------------------------------\u001b[0m",
      "\u001b[0;31mImportError\u001b[0m                               Traceback (most recent call last)",
      "Cell \u001b[0;32mIn[10], line 5\u001b[0m\n\u001b[1;32m      3\u001b[0m \u001b[38;5;28;01mfrom\u001b[39;00m \u001b[38;5;21;01mqiskit\u001b[39;00m\u001b[38;5;21;01m.\u001b[39;00m\u001b[38;5;21;01mcircuit\u001b[39;00m\u001b[38;5;21;01m.\u001b[39;00m\u001b[38;5;21;01mlibrary\u001b[39;00m \u001b[38;5;28;01mimport\u001b[39;00m RealAmplitudes\n\u001b[1;32m      4\u001b[0m \u001b[38;5;28;01mfrom\u001b[39;00m \u001b[38;5;21;01mqiskit\u001b[39;00m\u001b[38;5;21;01m.\u001b[39;00m\u001b[38;5;21;01mquantum_info\u001b[39;00m \u001b[38;5;28;01mimport\u001b[39;00m SparsePauliOp\n\u001b[0;32m----> 5\u001b[0m \u001b[38;5;28;01mfrom\u001b[39;00m \u001b[38;5;21;01mqiskit_aer\u001b[39;00m \u001b[38;5;28;01mimport\u001b[39;00m AerSimulator\n\u001b[1;32m      7\u001b[0m sim \u001b[38;5;241m=\u001b[39m AerSimulator()\n\u001b[1;32m      8\u001b[0m \u001b[38;5;66;03m# --------------------------\u001b[39;00m\n\u001b[1;32m      9\u001b[0m \u001b[38;5;66;03m# Simulating using estimator\u001b[39;00m\n\u001b[1;32m     10\u001b[0m \u001b[38;5;66;03m#---------------------------\u001b[39;00m\n",
      "File \u001b[0;32m~/.conda/envs/qiskit-summer/lib/python3.11/site-packages/qiskit_aer/__init__.py:69\u001b[0m\n\u001b[1;32m     65\u001b[0m     np\u001b[38;5;241m.\u001b[39mdot(np\u001b[38;5;241m.\u001b[39mzeros(\u001b[38;5;241m100\u001b[39m), np\u001b[38;5;241m.\u001b[39mzeros(\u001b[38;5;241m100\u001b[39m))\n\u001b[1;32m     66\u001b[0m \u001b[38;5;66;03m# ... ¯\\_(ツ)_/¯\u001b[39;00m\n\u001b[1;32m     67\u001b[0m \n\u001b[1;32m     68\u001b[0m \u001b[38;5;66;03m# pylint: disable=wrong-import-position\u001b[39;00m\n\u001b[0;32m---> 69\u001b[0m \u001b[38;5;28;01mfrom\u001b[39;00m \u001b[38;5;21;01mqiskit_aer\u001b[39;00m\u001b[38;5;21;01m.\u001b[39;00m\u001b[38;5;21;01maerprovider\u001b[39;00m \u001b[38;5;28;01mimport\u001b[39;00m AerProvider\n\u001b[1;32m     70\u001b[0m \u001b[38;5;28;01mfrom\u001b[39;00m \u001b[38;5;21;01mqiskit_aer\u001b[39;00m\u001b[38;5;21;01m.\u001b[39;00m\u001b[38;5;21;01mjobs\u001b[39;00m \u001b[38;5;28;01mimport\u001b[39;00m AerJob, AerJobSet\n\u001b[1;32m     71\u001b[0m \u001b[38;5;28;01mfrom\u001b[39;00m \u001b[38;5;21;01mqiskit_aer\u001b[39;00m\u001b[38;5;21;01m.\u001b[39;00m\u001b[38;5;21;01maererror\u001b[39;00m \u001b[38;5;28;01mimport\u001b[39;00m AerError\n",
      "File \u001b[0;32m~/.conda/envs/qiskit-summer/lib/python3.11/site-packages/qiskit_aer/aerprovider.py:20\u001b[0m\n\u001b[1;32m     17\u001b[0m \u001b[38;5;28;01mfrom\u001b[39;00m \u001b[38;5;21;01mqiskit\u001b[39;00m\u001b[38;5;21;01m.\u001b[39;00m\u001b[38;5;21;01mproviders\u001b[39;00m \u001b[38;5;28;01mimport\u001b[39;00m ProviderV1 \u001b[38;5;28;01mas\u001b[39;00m Provider\n\u001b[1;32m     18\u001b[0m \u001b[38;5;28;01mfrom\u001b[39;00m \u001b[38;5;21;01mqiskit\u001b[39;00m\u001b[38;5;21;01m.\u001b[39;00m\u001b[38;5;21;01mproviders\u001b[39;00m\u001b[38;5;21;01m.\u001b[39;00m\u001b[38;5;21;01mproviderutils\u001b[39;00m \u001b[38;5;28;01mimport\u001b[39;00m filter_backends\n\u001b[0;32m---> 20\u001b[0m \u001b[38;5;28;01mfrom\u001b[39;00m \u001b[38;5;21;01m.\u001b[39;00m\u001b[38;5;21;01mbackends\u001b[39;00m\u001b[38;5;21;01m.\u001b[39;00m\u001b[38;5;21;01maer_simulator\u001b[39;00m \u001b[38;5;28;01mimport\u001b[39;00m AerSimulator\n\u001b[1;32m     21\u001b[0m \u001b[38;5;28;01mfrom\u001b[39;00m \u001b[38;5;21;01m.\u001b[39;00m\u001b[38;5;21;01mbackends\u001b[39;00m\u001b[38;5;21;01m.\u001b[39;00m\u001b[38;5;21;01mqasm_simulator\u001b[39;00m \u001b[38;5;28;01mimport\u001b[39;00m QasmSimulator\n\u001b[1;32m     22\u001b[0m \u001b[38;5;28;01mfrom\u001b[39;00m \u001b[38;5;21;01m.\u001b[39;00m\u001b[38;5;21;01mbackends\u001b[39;00m\u001b[38;5;21;01m.\u001b[39;00m\u001b[38;5;21;01mstatevector_simulator\u001b[39;00m \u001b[38;5;28;01mimport\u001b[39;00m StatevectorSimulator\n",
      "File \u001b[0;32m~/.conda/envs/qiskit-summer/lib/python3.11/site-packages/qiskit_aer/backends/__init__.py:17\u001b[0m\n\u001b[1;32m      1\u001b[0m \u001b[38;5;66;03m# This code is part of Qiskit.\u001b[39;00m\n\u001b[1;32m      2\u001b[0m \u001b[38;5;66;03m#\u001b[39;00m\n\u001b[1;32m      3\u001b[0m \u001b[38;5;66;03m# (C) Copyright IBM 2018, 2019.\u001b[39;00m\n\u001b[0;32m   (...)\u001b[0m\n\u001b[1;32m     10\u001b[0m \u001b[38;5;66;03m# copyright notice, and modified files need to carry a notice indicating\u001b[39;00m\n\u001b[1;32m     11\u001b[0m \u001b[38;5;66;03m# that they have been altered from the originals.\u001b[39;00m\n\u001b[1;32m     13\u001b[0m \u001b[38;5;124;03m\"\"\"\u001b[39;00m\n\u001b[1;32m     14\u001b[0m \u001b[38;5;124;03mAer Provider Simulator Backends\u001b[39;00m\n\u001b[1;32m     15\u001b[0m \u001b[38;5;124;03m\"\"\"\u001b[39;00m\n\u001b[0;32m---> 17\u001b[0m \u001b[38;5;28;01mfrom\u001b[39;00m \u001b[38;5;21;01m.\u001b[39;00m\u001b[38;5;21;01maer_simulator\u001b[39;00m \u001b[38;5;28;01mimport\u001b[39;00m AerSimulator\n\u001b[1;32m     18\u001b[0m \u001b[38;5;28;01mfrom\u001b[39;00m \u001b[38;5;21;01m.\u001b[39;00m\u001b[38;5;21;01mqasm_simulator\u001b[39;00m \u001b[38;5;28;01mimport\u001b[39;00m QasmSimulator\n\u001b[1;32m     19\u001b[0m \u001b[38;5;28;01mfrom\u001b[39;00m \u001b[38;5;21;01m.\u001b[39;00m\u001b[38;5;21;01mstatevector_simulator\u001b[39;00m \u001b[38;5;28;01mimport\u001b[39;00m StatevectorSimulator\n",
      "File \u001b[0;32m~/.conda/envs/qiskit-summer/lib/python3.11/site-packages/qiskit_aer/backends/aer_simulator.py:25\u001b[0m\n\u001b[1;32m     22\u001b[0m \u001b[38;5;28;01mfrom\u001b[39;00m \u001b[38;5;21;01mqiskit\u001b[39;00m\u001b[38;5;21;01m.\u001b[39;00m\u001b[38;5;21;01mtranspiler\u001b[39;00m\u001b[38;5;21;01m.\u001b[39;00m\u001b[38;5;21;01mtarget\u001b[39;00m \u001b[38;5;28;01mimport\u001b[39;00m target_to_backend_properties\n\u001b[1;32m     24\u001b[0m \u001b[38;5;28;01mfrom\u001b[39;00m \u001b[38;5;21;01m.\u001b[39;00m\u001b[38;5;21;01m.\u001b[39;00m\u001b[38;5;21;01mversion\u001b[39;00m \u001b[38;5;28;01mimport\u001b[39;00m __version__\n\u001b[0;32m---> 25\u001b[0m \u001b[38;5;28;01mfrom\u001b[39;00m \u001b[38;5;21;01m.\u001b[39;00m\u001b[38;5;21;01maerbackend\u001b[39;00m \u001b[38;5;28;01mimport\u001b[39;00m AerBackend, AerError\n\u001b[1;32m     26\u001b[0m \u001b[38;5;28;01mfrom\u001b[39;00m \u001b[38;5;21;01m.\u001b[39;00m\u001b[38;5;21;01mbackend_utils\u001b[39;00m \u001b[38;5;28;01mimport\u001b[39;00m (\n\u001b[1;32m     27\u001b[0m     cpp_execute_circuits,\n\u001b[1;32m     28\u001b[0m     cpp_execute_qobj,\n\u001b[0;32m   (...)\u001b[0m\n\u001b[1;32m     32\u001b[0m     BASIS_GATES,\n\u001b[1;32m     33\u001b[0m )\n\u001b[1;32m     35\u001b[0m \u001b[38;5;66;03m# pylint: disable=import-error, no-name-in-module, abstract-method\u001b[39;00m\n",
      "File \u001b[0;32m~/.conda/envs/qiskit-summer/lib/python3.11/site-packages/qiskit_aer/backends/aerbackend.py:35\u001b[0m\n\u001b[1;32m     33\u001b[0m \u001b[38;5;28;01mfrom\u001b[39;00m \u001b[38;5;21;01m.\u001b[39;00m\u001b[38;5;21;01m.\u001b[39;00m\u001b[38;5;21;01maererror\u001b[39;00m \u001b[38;5;28;01mimport\u001b[39;00m AerError\n\u001b[1;32m     34\u001b[0m \u001b[38;5;28;01mfrom\u001b[39;00m \u001b[38;5;21;01m.\u001b[39;00m\u001b[38;5;21;01m.\u001b[39;00m\u001b[38;5;21;01mjobs\u001b[39;00m \u001b[38;5;28;01mimport\u001b[39;00m AerJob, AerJobSet, split_qobj\n\u001b[0;32m---> 35\u001b[0m \u001b[38;5;28;01mfrom\u001b[39;00m \u001b[38;5;21;01m.\u001b[39;00m\u001b[38;5;21;01m.\u001b[39;00m\u001b[38;5;21;01mnoise\u001b[39;00m\u001b[38;5;21;01m.\u001b[39;00m\u001b[38;5;21;01mnoise_model\u001b[39;00m \u001b[38;5;28;01mimport\u001b[39;00m NoiseModel, QuantumErrorLocation\n\u001b[1;32m     36\u001b[0m \u001b[38;5;28;01mfrom\u001b[39;00m \u001b[38;5;21;01m.\u001b[39;00m\u001b[38;5;21;01m.\u001b[39;00m\u001b[38;5;21;01mnoise\u001b[39;00m\u001b[38;5;21;01m.\u001b[39;00m\u001b[38;5;21;01merrors\u001b[39;00m\u001b[38;5;21;01m.\u001b[39;00m\u001b[38;5;21;01mquantum_error\u001b[39;00m \u001b[38;5;28;01mimport\u001b[39;00m QuantumChannelInstruction\n\u001b[1;32m     37\u001b[0m \u001b[38;5;28;01mfrom\u001b[39;00m \u001b[38;5;21;01m.\u001b[39;00m\u001b[38;5;21;01maer_compiler\u001b[39;00m \u001b[38;5;28;01mimport\u001b[39;00m compile_circuit, assemble_circuits, generate_aer_config\n",
      "File \u001b[0;32m~/.conda/envs/qiskit-summer/lib/python3.11/site-packages/qiskit_aer/noise/__init__.py:240\u001b[0m\n\u001b[1;32m     13\u001b[0m \u001b[38;5;124mr\u001b[39m\u001b[38;5;124;03m\"\"\"\u001b[39;00m\n\u001b[1;32m     14\u001b[0m \u001b[38;5;124;03m================================================\u001b[39;00m\n\u001b[1;32m     15\u001b[0m \u001b[38;5;124;03mNoise Models (:mod:`qiskit_aer.noise`)\u001b[39;00m\n\u001b[0;32m   (...)\u001b[0m\n\u001b[1;32m    236\u001b[0m \u001b[38;5;124;03m    device.thermal_relaxation_values\u001b[39;00m\n\u001b[1;32m    237\u001b[0m \u001b[38;5;124;03m\"\"\"\u001b[39;00m\n\u001b[1;32m    239\u001b[0m \u001b[38;5;66;03m# Noise and Error classes\u001b[39;00m\n\u001b[0;32m--> 240\u001b[0m \u001b[38;5;28;01mfrom\u001b[39;00m \u001b[38;5;21;01m.\u001b[39;00m\u001b[38;5;21;01mnoise_model\u001b[39;00m \u001b[38;5;28;01mimport\u001b[39;00m NoiseModel\n\u001b[1;32m    241\u001b[0m \u001b[38;5;28;01mfrom\u001b[39;00m \u001b[38;5;21;01m.\u001b[39;00m\u001b[38;5;21;01merrors\u001b[39;00m \u001b[38;5;28;01mimport\u001b[39;00m QuantumError\n\u001b[1;32m    242\u001b[0m \u001b[38;5;28;01mfrom\u001b[39;00m \u001b[38;5;21;01m.\u001b[39;00m\u001b[38;5;21;01merrors\u001b[39;00m \u001b[38;5;28;01mimport\u001b[39;00m ReadoutError\n",
      "File \u001b[0;32m~/.conda/envs/qiskit-summer/lib/python3.11/site-packages/qiskit_aer/noise/noise_model.py:39\u001b[0m\n\u001b[1;32m     37\u001b[0m \u001b[38;5;28;01mfrom\u001b[39;00m \u001b[38;5;21;01m.\u001b[39;00m\u001b[38;5;21;01mnoiseerror\u001b[39;00m \u001b[38;5;28;01mimport\u001b[39;00m NoiseError\n\u001b[1;32m     38\u001b[0m \u001b[38;5;28;01mfrom\u001b[39;00m \u001b[38;5;21;01m.\u001b[39;00m\u001b[38;5;21;01mpasses\u001b[39;00m \u001b[38;5;28;01mimport\u001b[39;00m RelaxationNoisePass\n\u001b[0;32m---> 39\u001b[0m \u001b[38;5;28;01mfrom\u001b[39;00m \u001b[38;5;21;01m.\u001b[39;00m\u001b[38;5;21;01m.\u001b[39;00m\u001b[38;5;21;01mbackends\u001b[39;00m\u001b[38;5;21;01m.\u001b[39;00m\u001b[38;5;21;01mbackend_utils\u001b[39;00m \u001b[38;5;28;01mimport\u001b[39;00m BASIS_GATES\n\u001b[1;32m     41\u001b[0m logger \u001b[38;5;241m=\u001b[39m logging\u001b[38;5;241m.\u001b[39mgetLogger(\u001b[38;5;18m__name__\u001b[39m)\n\u001b[1;32m     44\u001b[0m \u001b[38;5;28;01mclass\u001b[39;00m \u001b[38;5;21;01mAerJSONEncoder\u001b[39;00m(json\u001b[38;5;241m.\u001b[39mJSONEncoder):\n",
      "File \u001b[0;32m~/.conda/envs/qiskit-summer/lib/python3.11/site-packages/qiskit_aer/backends/backend_utils.py:29\u001b[0m\n\u001b[1;32m     26\u001b[0m \u001b[38;5;28;01mfrom\u001b[39;00m \u001b[38;5;21;01m.\u001b[39;00m\u001b[38;5;21;01mcompatibility\u001b[39;00m \u001b[38;5;28;01mimport\u001b[39;00m Statevector, DensityMatrix, StabilizerState, Operator, SuperOp\n\u001b[1;32m     28\u001b[0m \u001b[38;5;66;03m# pylint: disable=import-error, no-name-in-module, abstract-method\u001b[39;00m\n\u001b[0;32m---> 29\u001b[0m \u001b[38;5;28;01mfrom\u001b[39;00m \u001b[38;5;21;01m.\u001b[39;00m\u001b[38;5;21;01mcontroller_wrappers\u001b[39;00m \u001b[38;5;28;01mimport\u001b[39;00m aer_initialize_libraries\n\u001b[1;32m     31\u001b[0m \u001b[38;5;66;03m# Available system memory\u001b[39;00m\n\u001b[1;32m     32\u001b[0m SYSTEM_MEMORY_GB \u001b[38;5;241m=\u001b[39m psutil\u001b[38;5;241m.\u001b[39mvirtual_memory()\u001b[38;5;241m.\u001b[39mtotal \u001b[38;5;241m/\u001b[39m (\u001b[38;5;241m1024\u001b[39m\u001b[38;5;241m*\u001b[39m\u001b[38;5;241m*\u001b[39m\u001b[38;5;241m3\u001b[39m)\n",
      "\u001b[0;31mImportError\u001b[0m: /global/homes/g/gzquse/.conda/envs/qiskit-summer/lib/python3.11/site-packages/qiskit_aer/backends/../../nvidia/cusparse/lib/libcusparse.so.12: undefined symbol: __nvJitLinkAddData_12_5, version libnvJitLink.so.12"
     ]
    }
   ],
   "source": [
    "# test cuda aer\n",
    "from qiskit import transpile\n",
    "from qiskit.circuit.library import RealAmplitudes\n",
    "from qiskit.quantum_info import SparsePauliOp\n",
    "from qiskit_aer import AerSimulator\n",
    "\n",
    "sim = AerSimulator()\n",
    "# --------------------------\n",
    "# Simulating using estimator\n",
    "#---------------------------\n",
    "from qiskit_aer.primitives import EstimatorV2\n",
    "\n",
    "psi1 = transpile(RealAmplitudes(num_qubits=2, reps=2), sim, optimization_level=0)\n",
    "psi2 = transpile(RealAmplitudes(num_qubits=2, reps=3), sim, optimization_level=0)\n",
    "\n",
    "H1 = SparsePauliOp.from_list([(\"II\", 1), (\"IZ\", 2), (\"XI\", 3)])\n",
    "H2 = SparsePauliOp.from_list([(\"IZ\", 1)])\n",
    "H3 = SparsePauliOp.from_list([(\"ZI\", 1), (\"ZZ\", 1)])\n",
    "\n",
    "theta1 = [0, 1, 1, 2, 3, 5]\n",
    "theta2 = [0, 1, 1, 2, 3, 5, 8, 13]\n",
    "theta3 = [1, 2, 3, 4, 5, 6]\n",
    "\n",
    "estimator = EstimatorV2()\n",
    "\n",
    "job = estimator.run(\n",
    "    [\n",
    "        (psi1, [H1, H3], [theta1, theta3]),\n",
    "        (psi2, H2, theta2)\n",
    "    ],\n",
    "    precision=0.01\n",
    ")\n",
    "result = job.result()\n",
    "print(f\"expectation values : psi1 = {result[0].data.evs}, psi2 = {result[1].data.evs}\")"
   ]
  },
  {
   "cell_type": "code",
   "execution_count": null,
   "metadata": {},
   "outputs": [],
   "source": []
  }
 ],
 "metadata": {
  "kernelspec": {
   "display_name": "qiskit-summer",
   "language": "python",
   "name": "qiskit-summer"
  },
  "language_info": {
   "codemirror_mode": {
    "name": "ipython",
    "version": 3
   },
   "file_extension": ".py",
   "mimetype": "text/x-python",
   "name": "python",
   "nbconvert_exporter": "python",
   "pygments_lexer": "ipython3",
   "version": "3.11.9"
  }
 },
 "nbformat": 4,
 "nbformat_minor": 2
}
